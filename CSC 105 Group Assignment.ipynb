{
 "cells": [
  {
   "cell_type": "markdown",
   "id": "8be28973-fc87-40f0-91b9-f2504a27c658",
   "metadata": {},
   "source": [
    "### **Team 2 Group Project**"
   ]
  },
  {
   "cell_type": "code",
   "execution_count": 88,
   "id": "618c8848-0127-4414-9805-f375f0fadf44",
   "metadata": {
    "tags": []
   },
   "outputs": [],
   "source": [
    "import pandas as pd\n",
    "import numpy as np\n",
    "import matplotlib.pyplot as plt"
   ]
  },
  {
   "cell_type": "code",
   "execution_count": 21,
   "id": "a959968a-ff85-4666-9bde-867b42480d6c",
   "metadata": {
    "tags": []
   },
   "outputs": [
    {
     "data": {
      "text/html": [
       "<div>\n",
       "<style scoped>\n",
       "    .dataframe tbody tr th:only-of-type {\n",
       "        vertical-align: middle;\n",
       "    }\n",
       "\n",
       "    .dataframe tbody tr th {\n",
       "        vertical-align: top;\n",
       "    }\n",
       "\n",
       "    .dataframe thead th {\n",
       "        text-align: right;\n",
       "    }\n",
       "</style>\n",
       "<table border=\"1\" class=\"dataframe\">\n",
       "  <thead>\n",
       "    <tr style=\"text-align: right;\">\n",
       "      <th></th>\n",
       "      <th>Date</th>\n",
       "      <th>Product_ID</th>\n",
       "      <th>Product_Name</th>\n",
       "      <th>Category</th>\n",
       "      <th>Sales_Price</th>\n",
       "      <th>Cost_Price</th>\n",
       "      <th>Quantity_Sold</th>\n",
       "      <th>Inventory_Count</th>\n",
       "    </tr>\n",
       "  </thead>\n",
       "  <tbody>\n",
       "    <tr>\n",
       "      <th>0</th>\n",
       "      <td>2023-01-01</td>\n",
       "      <td>1001</td>\n",
       "      <td>Product A</td>\n",
       "      <td>Electronics</td>\n",
       "      <td>500</td>\n",
       "      <td>350</td>\n",
       "      <td>20</td>\n",
       "      <td>100</td>\n",
       "    </tr>\n",
       "    <tr>\n",
       "      <th>1</th>\n",
       "      <td>2023-01-02</td>\n",
       "      <td>1002</td>\n",
       "      <td>Product B</td>\n",
       "      <td>Electronics</td>\n",
       "      <td>600</td>\n",
       "      <td>400</td>\n",
       "      <td>15</td>\n",
       "      <td>80</td>\n",
       "    </tr>\n",
       "    <tr>\n",
       "      <th>2</th>\n",
       "      <td>2023-01-03</td>\n",
       "      <td>1003</td>\n",
       "      <td>Product C</td>\n",
       "      <td>Clothing</td>\n",
       "      <td>50</td>\n",
       "      <td>30</td>\n",
       "      <td>50</td>\n",
       "      <td>200</td>\n",
       "    </tr>\n",
       "    <tr>\n",
       "      <th>3</th>\n",
       "      <td>2023-01-04</td>\n",
       "      <td>1004</td>\n",
       "      <td>Product D</td>\n",
       "      <td>Clothing</td>\n",
       "      <td>40</td>\n",
       "      <td>25</td>\n",
       "      <td>80</td>\n",
       "      <td>120</td>\n",
       "    </tr>\n",
       "    <tr>\n",
       "      <th>4</th>\n",
       "      <td>2023-01-05</td>\n",
       "      <td>1005</td>\n",
       "      <td>Product E</td>\n",
       "      <td>Home Decor</td>\n",
       "      <td>100</td>\n",
       "      <td>70</td>\n",
       "      <td>30</td>\n",
       "      <td>150</td>\n",
       "    </tr>\n",
       "  </tbody>\n",
       "</table>\n",
       "</div>"
      ],
      "text/plain": [
       "         Date  Product_ID Product_Name     Category  Sales_Price  Cost_Price  \\\n",
       "0  2023-01-01        1001    Product A  Electronics          500         350   \n",
       "1  2023-01-02        1002    Product B  Electronics          600         400   \n",
       "2  2023-01-03        1003    Product C     Clothing           50          30   \n",
       "3  2023-01-04        1004    Product D     Clothing           40          25   \n",
       "4  2023-01-05        1005    Product E   Home Decor          100          70   \n",
       "\n",
       "   Quantity_Sold  Inventory_Count  \n",
       "0             20              100  \n",
       "1             15               80  \n",
       "2             50              200  \n",
       "3             80              120  \n",
       "4             30              150  "
      ]
     },
     "execution_count": 21,
     "metadata": {},
     "output_type": "execute_result"
    }
   ],
   "source": [
    "df = pd.read_csv('data/retail_sales_data.csv')\n",
    "df.head()"
   ]
  },
  {
   "cell_type": "code",
   "execution_count": 3,
   "id": "b212abdc-5c86-4ec2-8d63-0185da91db55",
   "metadata": {
    "tags": []
   },
   "outputs": [
    {
     "data": {
      "text/html": [
       "<div>\n",
       "<style scoped>\n",
       "    .dataframe tbody tr th:only-of-type {\n",
       "        vertical-align: middle;\n",
       "    }\n",
       "\n",
       "    .dataframe tbody tr th {\n",
       "        vertical-align: top;\n",
       "    }\n",
       "\n",
       "    .dataframe thead th {\n",
       "        text-align: right;\n",
       "    }\n",
       "</style>\n",
       "<table border=\"1\" class=\"dataframe\">\n",
       "  <thead>\n",
       "    <tr style=\"text-align: right;\">\n",
       "      <th></th>\n",
       "      <th>Product_ID</th>\n",
       "      <th>Sales_Price</th>\n",
       "      <th>Cost_Price</th>\n",
       "      <th>Quantity_Sold</th>\n",
       "      <th>Inventory_Count</th>\n",
       "    </tr>\n",
       "  </thead>\n",
       "  <tbody>\n",
       "    <tr>\n",
       "      <th>count</th>\n",
       "      <td>48.000000</td>\n",
       "      <td>48.000000</td>\n",
       "      <td>48.000000</td>\n",
       "      <td>48.000000</td>\n",
       "      <td>48.000000</td>\n",
       "    </tr>\n",
       "    <tr>\n",
       "      <th>mean</th>\n",
       "      <td>1006.500000</td>\n",
       "      <td>235.604167</td>\n",
       "      <td>154.833333</td>\n",
       "      <td>37.333333</td>\n",
       "      <td>106.770833</td>\n",
       "    </tr>\n",
       "    <tr>\n",
       "      <th>std</th>\n",
       "      <td>3.488583</td>\n",
       "      <td>218.200546</td>\n",
       "      <td>147.865283</td>\n",
       "      <td>18.983008</td>\n",
       "      <td>38.654079</td>\n",
       "    </tr>\n",
       "    <tr>\n",
       "      <th>min</th>\n",
       "      <td>1001.000000</td>\n",
       "      <td>40.000000</td>\n",
       "      <td>25.000000</td>\n",
       "      <td>15.000000</td>\n",
       "      <td>40.000000</td>\n",
       "    </tr>\n",
       "    <tr>\n",
       "      <th>25%</th>\n",
       "      <td>1003.750000</td>\n",
       "      <td>57.250000</td>\n",
       "      <td>33.750000</td>\n",
       "      <td>23.500000</td>\n",
       "      <td>80.000000</td>\n",
       "    </tr>\n",
       "    <tr>\n",
       "      <th>50%</th>\n",
       "      <td>1006.500000</td>\n",
       "      <td>121.000000</td>\n",
       "      <td>77.500000</td>\n",
       "      <td>31.000000</td>\n",
       "      <td>97.500000</td>\n",
       "    </tr>\n",
       "    <tr>\n",
       "      <th>75%</th>\n",
       "      <td>1009.250000</td>\n",
       "      <td>485.000000</td>\n",
       "      <td>312.500000</td>\n",
       "      <td>48.000000</td>\n",
       "      <td>122.500000</td>\n",
       "    </tr>\n",
       "    <tr>\n",
       "      <th>max</th>\n",
       "      <td>1012.000000</td>\n",
       "      <td>620.000000</td>\n",
       "      <td>400.000000</td>\n",
       "      <td>80.000000</td>\n",
       "      <td>200.000000</td>\n",
       "    </tr>\n",
       "  </tbody>\n",
       "</table>\n",
       "</div>"
      ],
      "text/plain": [
       "        Product_ID  Sales_Price  Cost_Price  Quantity_Sold  Inventory_Count\n",
       "count    48.000000    48.000000   48.000000      48.000000        48.000000\n",
       "mean   1006.500000   235.604167  154.833333      37.333333       106.770833\n",
       "std       3.488583   218.200546  147.865283      18.983008        38.654079\n",
       "min    1001.000000    40.000000   25.000000      15.000000        40.000000\n",
       "25%    1003.750000    57.250000   33.750000      23.500000        80.000000\n",
       "50%    1006.500000   121.000000   77.500000      31.000000        97.500000\n",
       "75%    1009.250000   485.000000  312.500000      48.000000       122.500000\n",
       "max    1012.000000   620.000000  400.000000      80.000000       200.000000"
      ]
     },
     "execution_count": 3,
     "metadata": {},
     "output_type": "execute_result"
    }
   ],
   "source": [
    "df.describe()"
   ]
  },
  {
   "cell_type": "code",
   "execution_count": 4,
   "id": "80eaba40-2e91-4ee2-83e4-c81fb41133b2",
   "metadata": {
    "tags": []
   },
   "outputs": [
    {
     "name": "stdout",
     "output_type": "stream",
     "text": [
      "<class 'pandas.core.frame.DataFrame'>\n",
      "RangeIndex: 48 entries, 0 to 47\n",
      "Data columns (total 8 columns):\n",
      " #   Column           Non-Null Count  Dtype \n",
      "---  ------           --------------  ----- \n",
      " 0   Date             48 non-null     object\n",
      " 1   Product_ID       48 non-null     int64 \n",
      " 2   Product_Name     48 non-null     object\n",
      " 3   Category         48 non-null     object\n",
      " 4   Sales_Price      48 non-null     int64 \n",
      " 5   Cost_Price       48 non-null     int64 \n",
      " 6   Quantity_Sold    48 non-null     int64 \n",
      " 7   Inventory_Count  48 non-null     int64 \n",
      "dtypes: int64(5), object(3)\n",
      "memory usage: 3.1+ KB\n"
     ]
    }
   ],
   "source": [
    "df.info()"
   ]
  },
  {
   "cell_type": "markdown",
   "id": "ee0b405d-5361-4bb3-9b07-5452c88798fc",
   "metadata": {},
   "source": [
    "### **Task 1**\n",
    "<p>Calculate the total sales revenue for each product category</p>"
   ]
  },
  {
   "cell_type": "code",
   "execution_count": 5,
   "id": "cd5c78fa-079f-412e-ac76-27fe8fdf53d0",
   "metadata": {
    "tags": []
   },
   "outputs": [
    {
     "data": {
      "text/plain": [
       "Index(['Date', 'Product_ID', 'Product_Name', 'Category', 'Sales_Price',\n",
       "       'Cost_Price', 'Quantity_Sold', 'Inventory_Count'],\n",
       "      dtype='object')"
      ]
     },
     "execution_count": 5,
     "metadata": {},
     "output_type": "execute_result"
    }
   ],
   "source": [
    "df.columns"
   ]
  },
  {
   "cell_type": "code",
   "execution_count": 13,
   "id": "ca6dd256-2c6b-41ac-b255-c68350d86fcb",
   "metadata": {
    "tags": []
   },
   "outputs": [
    {
     "name": "stderr",
     "output_type": "stream",
     "text": [
      "C:\\Users\\robyn\\AppData\\Local\\Temp\\ipykernel_1396\\86654594.py:1: FutureWarning: The default value of numeric_only in DataFrameGroupBy.sum is deprecated. In a future version, numeric_only will default to False. Either specify numeric_only or select only columns which should be valid for the function.\n",
      "  df.groupby('Category').sum()\n"
     ]
    },
    {
     "data": {
      "text/html": [
       "<div>\n",
       "<style scoped>\n",
       "    .dataframe tbody tr th:only-of-type {\n",
       "        vertical-align: middle;\n",
       "    }\n",
       "\n",
       "    .dataframe tbody tr th {\n",
       "        vertical-align: top;\n",
       "    }\n",
       "\n",
       "    .dataframe thead th {\n",
       "        text-align: right;\n",
       "    }\n",
       "</style>\n",
       "<table border=\"1\" class=\"dataframe\">\n",
       "  <thead>\n",
       "    <tr style=\"text-align: right;\">\n",
       "      <th></th>\n",
       "      <th>Product_ID</th>\n",
       "      <th>Sales_Price</th>\n",
       "      <th>Cost_Price</th>\n",
       "      <th>Quantity_Sold</th>\n",
       "      <th>Inventory_Count</th>\n",
       "    </tr>\n",
       "    <tr>\n",
       "      <th>Category</th>\n",
       "      <th></th>\n",
       "      <th></th>\n",
       "      <th></th>\n",
       "      <th></th>\n",
       "      <th></th>\n",
       "    </tr>\n",
       "  </thead>\n",
       "  <tbody>\n",
       "    <tr>\n",
       "      <th>Clothing</th>\n",
       "      <td>16104</td>\n",
       "      <td>819</td>\n",
       "      <td>472</td>\n",
       "      <td>963</td>\n",
       "      <td>2165</td>\n",
       "    </tr>\n",
       "    <tr>\n",
       "      <th>Electronics</th>\n",
       "      <td>16072</td>\n",
       "      <td>8560</td>\n",
       "      <td>5720</td>\n",
       "      <td>325</td>\n",
       "      <td>1385</td>\n",
       "    </tr>\n",
       "    <tr>\n",
       "      <th>Home Decor</th>\n",
       "      <td>16136</td>\n",
       "      <td>1930</td>\n",
       "      <td>1240</td>\n",
       "      <td>504</td>\n",
       "      <td>1575</td>\n",
       "    </tr>\n",
       "  </tbody>\n",
       "</table>\n",
       "</div>"
      ],
      "text/plain": [
       "             Product_ID  Sales_Price  Cost_Price  Quantity_Sold  \\\n",
       "Category                                                          \n",
       "Clothing          16104          819         472            963   \n",
       "Electronics       16072         8560        5720            325   \n",
       "Home Decor        16136         1930        1240            504   \n",
       "\n",
       "             Inventory_Count  \n",
       "Category                      \n",
       "Clothing                2165  \n",
       "Electronics             1385  \n",
       "Home Decor              1575  "
      ]
     },
     "execution_count": 13,
     "metadata": {},
     "output_type": "execute_result"
    }
   ],
   "source": [
    "df.groupby('Category').sum()"
   ]
  },
  {
   "cell_type": "markdown",
   "id": "f3fb9201-ef93-46ee-9171-e07f3f1c76ca",
   "metadata": {},
   "source": [
    "<p>The total sales revenue for clothing was 819, for electronics was 8560, and for home decor was 1930."
   ]
  },
  {
   "cell_type": "markdown",
   "id": "60e75f53-2c35-4b52-aa8a-ffc34ba0d254",
   "metadata": {
    "tags": []
   },
   "source": [
    "<hr>"
   ]
  },
  {
   "cell_type": "markdown",
   "id": "6df71684-28ec-4d4e-9e57-a06f339e6e29",
   "metadata": {
    "tags": []
   },
   "source": [
    "### **Task 2**\n",
    "<p>Create a bar chart to visualize the total sales revenue for each product category\n",
    "for the entire period.</p>"
   ]
  },
  {
   "cell_type": "code",
   "execution_count": 4,
   "id": "9b871619-0646-4308-8218-cc41aebd7771",
   "metadata": {
    "tags": []
   },
   "outputs": [],
   "source": [
    "x = df['Category']\n",
    "y = df['Sales_Price']"
   ]
  },
  {
   "cell_type": "code",
   "execution_count": 27,
   "id": "f452c8ac-80d1-485f-b822-ad189a73e8be",
   "metadata": {
    "tags": []
   },
   "outputs": [
    {
     "data": {
      "text/plain": [
       "0     500\n",
       "1     600\n",
       "2      50\n",
       "3      40\n",
       "4     100\n",
       "5     120\n",
       "6     450\n",
       "7     550\n",
       "8      60\n",
       "9      45\n",
       "10    110\n",
       "11    130\n",
       "12    520\n",
       "13    610\n",
       "14     55\n",
       "15     42\n",
       "16    105\n",
       "17    125\n",
       "18    460\n",
       "19    540\n",
       "20     58\n",
       "21     47\n",
       "22    115\n",
       "23    135\n",
       "24    510\n",
       "25    590\n",
       "26     52\n",
       "27     44\n",
       "28    102\n",
       "29    122\n",
       "30    470\n",
       "31    560\n",
       "32     62\n",
       "33     49\n",
       "34    120\n",
       "35    140\n",
       "36    530\n",
       "37    620\n",
       "38     54\n",
       "39     46\n",
       "40    108\n",
       "41    128\n",
       "42    480\n",
       "43    570\n",
       "44     64\n",
       "45     51\n",
       "46    125\n",
       "47    145\n",
       "Name: Sales_Price, dtype: int64"
      ]
     },
     "execution_count": 27,
     "metadata": {},
     "output_type": "execute_result"
    }
   ],
   "source": [
    "y"
   ]
  },
  {
   "cell_type": "code",
   "execution_count": 9,
   "id": "c4cf3262-3f4e-438b-849d-7fc162dc1934",
   "metadata": {
    "tags": []
   },
   "outputs": [
    {
     "data": {
      "text/plain": [
       "Text(0, 0.5, 'Revenue (USD)')"
      ]
     },
     "execution_count": 9,
     "metadata": {},
     "output_type": "execute_result"
    },
    {
     "data": {
      "image/png": "[encoded data removed]",
      "text/plain": [
       "<Figure size 640x480 with 1 Axes>"
      ]
     },
     "metadata": {},
     "output_type": "display_data"
    }
   ],
   "source": [
    "plt.bar(x,y)\n",
    "\n",
    "plt.title(\"Total Sales Revenue for Each Product Category\")\n",
    "plt.xlabel(\"Category\")\n",
    "plt.ylabel(\"Revenue (USD)\")\n"
   ]
  },
  {
   "cell_type": "markdown",
   "id": "1bc61292-2bad-49f3-98ca-69f8e4c05b98",
   "metadata": {},
   "source": [
    "<hr>"
   ]
  },
  {
   "cell_type": "markdown",
   "id": "64b5f413-1d79-462e-a71f-5ff7dda5d3d8",
   "metadata": {},
   "source": [
    "### **Task 3**\n",
    "<p> Identify the top 5 best-selling products based on the quantity sold </p>"
   ]
  },
  {
   "cell_type": "code",
   "execution_count": 11,
   "id": "59ae200e-7c3d-4890-b2b9-6c54aa0ca19d",
   "metadata": {
    "tags": []
   },
   "outputs": [
    {
     "data": {
      "text/plain": [
       "3     80\n",
       "15    78\n",
       "27    75\n",
       "21    72\n",
       "39    72\n",
       "Name: Quantity_Sold, dtype: int64"
      ]
     },
     "execution_count": 11,
     "metadata": {},
     "output_type": "execute_result"
    }
   ],
   "source": [
    "df['Quantity_Sold'].nlargest()"
   ]
  },
  {
   "cell_type": "markdown",
   "id": "cf7e4e8c-5669-4809-8ddd-3bd3cc2317ad",
   "metadata": {},
   "source": [
    "<hr>"
   ]
  },
  {
   "cell_type": "markdown",
   "id": "09857d98-d018-4cbb-8f18-4f980d12e2f0",
   "metadata": {},
   "source": [
    "### **Task 4**\n",
    "<p> Create a line chart to visualize the trend of total sales revenue over the four\n",
    "months </p>"
   ]
  },
  {
   "cell_type": "code",
   "execution_count": 12,
   "id": "e257f90b-6f55-4e56-9799-d5f8de272b68",
   "metadata": {
    "tags": []
   },
   "outputs": [
    {
     "data": {
      "text/plain": [
       "Index(['Date', 'Product_ID', 'Product_Name', 'Category', 'Sales_Price',\n",
       "       'Cost_Price', 'Quantity_Sold', 'Inventory_Count'],\n",
       "      dtype='object')"
      ]
     },
     "execution_count": 12,
     "metadata": {},
     "output_type": "execute_result"
    }
   ],
   "source": [
    "df.columns"
   ]
  },
  {
   "cell_type": "code",
   "execution_count": 90,
   "id": "36bf705b-a443-4ad9-9ea7-3be22bd5bf71",
   "metadata": {
    "tags": []
   },
   "outputs": [
    {
     "data": {
      "text/plain": [
       "Sales_Price    2755\n",
       "dtype: int64"
      ]
     },
     "execution_count": 90,
     "metadata": {},
     "output_type": "execute_result"
    }
   ],
   "source": [
    "df2 = df.loc[0:11, ['Sales_Price']]\n",
    "df2.sum()"
   ]
  },
  {
   "cell_type": "code",
   "execution_count": 91,
   "id": "c488ccbd-678e-4f04-b99f-a0196effa274",
   "metadata": {
    "tags": []
   },
   "outputs": [
    {
     "data": {
      "text/plain": [
       "Sales_Price    2812\n",
       "dtype: int64"
      ]
     },
     "execution_count": 91,
     "metadata": {},
     "output_type": "execute_result"
    }
   ],
   "source": [
    "df3 = df.loc[12:23, ['Sales_Price']]\n",
    "df3.sum()"
   ]
  },
  {
   "cell_type": "code",
   "execution_count": 92,
   "id": "b811d6fc-01a2-4dcb-bb0a-b62d28357823",
   "metadata": {
    "tags": []
   },
   "outputs": [
    {
     "data": {
      "text/plain": [
       "Sales_Price    2821\n",
       "dtype: int64"
      ]
     },
     "execution_count": 92,
     "metadata": {},
     "output_type": "execute_result"
    }
   ],
   "source": [
    "df4 = df.loc[24:35, ['Sales_Price']]\n",
    "df4.sum()"
   ]
  },
  {
   "cell_type": "code",
   "execution_count": 94,
   "id": "38739d07-6cee-479d-86ce-c9435e368914",
   "metadata": {
    "tags": []
   },
   "outputs": [
    {
     "data": {
      "text/plain": [
       "Sales_Price    2921\n",
       "dtype: int64"
      ]
     },
     "execution_count": 94,
     "metadata": {},
     "output_type": "execute_result"
    }
   ],
   "source": [
    "df5 = df.loc[36:47, ['Sales_Price']]\n",
    "df5.sum()"
   ]
  },
  {
   "cell_type": "code",
   "execution_count": 98,
   "id": "7c930f5e-8978-46b9-98fb-1a9596726a2b",
   "metadata": {
    "tags": []
   },
   "outputs": [
    {
     "data": {
      "text/plain": [
       "Text(0, 0.5, 'Sales')"
      ]
     },
     "execution_count": 98,
     "metadata": {},
     "output_type": "execute_result"
    },
    {
     "data": {
      "image/png": "[encoded data removed]",
      "text/plain": [
       "<Figure size 640x480 with 1 Axes>"
      ]
     },
     "metadata": {},
     "output_type": "display_data"
    }
   ],
   "source": [
    "x = ['Jan', 'Feb', 'Mar', 'Apr']\n",
    "y = [2755, 2812, 2812, 2921]\n",
    "\n",
    "plt.plot(x,y)\n",
    "\n",
    "plt.title(\"Total Sales Over Time by Months\")\n",
    "plt.xlabel(\"Months\")\n",
    "plt.ylabel(\"Sales\")"
   ]
  },
  {
   "cell_type": "markdown",
   "id": "6bbfc692-b467-420b-8811-a19d42b6466b",
   "metadata": {},
   "source": [
    "<p> Sales increased every month, the largest increase happening between March and April. </p>\n",
    "<hr>"
   ]
  },
  {
   "cell_type": "markdown",
   "id": "1696caf3-c449-45a5-9aad-7589008e71db",
   "metadata": {
    "tags": []
   },
   "source": [
    "### **Task 5**\n",
    "<p> Calculate the profit (sales revenue - cost price) for each product and find the\n",
    "product with the highest profit. </p>"
   ]
  },
  {
   "cell_type": "code",
   "execution_count": 18,
   "id": "0e816cf4-e268-4285-a3e2-105b837a94da",
   "metadata": {
    "tags": []
   },
   "outputs": [
    {
     "data": {
      "text/plain": [
       "Index(['Date', 'Product_ID', 'Product_Name', 'Category', 'Sales_Price',\n",
       "       'Cost_Price', 'Quantity_Sold', 'Inventory_Count'],\n",
       "      dtype='object')"
      ]
     },
     "execution_count": 18,
     "metadata": {},
     "output_type": "execute_result"
    }
   ],
   "source": [
    "df.columns"
   ]
  },
  {
   "cell_type": "code",
   "execution_count": 33,
   "id": "fe29f1df-f1f1-4ebf-a436-8f81ec8320eb",
   "metadata": {
    "tags": []
   },
   "outputs": [],
   "source": [
    "x = df['Sales_Price']\n",
    "y = df['Cost_Price']"
   ]
  },
  {
   "cell_type": "code",
   "execution_count": 44,
   "id": "b4192b63-c77c-4770-bf04-acf2d4218999",
   "metadata": {
    "tags": []
   },
   "outputs": [],
   "source": [
    "df2 = df.drop(columns =['Date', 'Product_ID', 'Category', 'Quantity_Sold', 'Inventory_Count'])"
   ]
  },
  {
   "cell_type": "code",
   "execution_count": 45,
   "id": "1feb6b26-98b9-47db-8f29-40ade6b8cef6",
   "metadata": {
    "tags": []
   },
   "outputs": [
    {
     "data": {
      "text/html": [
       "<div>\n",
       "<style scoped>\n",
       "    .dataframe tbody tr th:only-of-type {\n",
       "        vertical-align: middle;\n",
       "    }\n",
       "\n",
       "    .dataframe tbody tr th {\n",
       "        vertical-align: top;\n",
       "    }\n",
       "\n",
       "    .dataframe thead th {\n",
       "        text-align: right;\n",
       "    }\n",
       "</style>\n",
       "<table border=\"1\" class=\"dataframe\">\n",
       "  <thead>\n",
       "    <tr style=\"text-align: right;\">\n",
       "      <th></th>\n",
       "      <th>Product_Name</th>\n",
       "      <th>Sales_Price</th>\n",
       "      <th>Cost_Price</th>\n",
       "    </tr>\n",
       "  </thead>\n",
       "  <tbody>\n",
       "    <tr>\n",
       "      <th>37</th>\n",
       "      <td>Product B</td>\n",
       "      <td>620</td>\n",
       "      <td>400</td>\n",
       "    </tr>\n",
       "    <tr>\n",
       "      <th>13</th>\n",
       "      <td>Product B</td>\n",
       "      <td>610</td>\n",
       "      <td>400</td>\n",
       "    </tr>\n",
       "    <tr>\n",
       "      <th>1</th>\n",
       "      <td>Product B</td>\n",
       "      <td>600</td>\n",
       "      <td>400</td>\n",
       "    </tr>\n",
       "    <tr>\n",
       "      <th>25</th>\n",
       "      <td>Product B</td>\n",
       "      <td>590</td>\n",
       "      <td>400</td>\n",
       "    </tr>\n",
       "    <tr>\n",
       "      <th>43</th>\n",
       "      <td>Product H</td>\n",
       "      <td>570</td>\n",
       "      <td>380</td>\n",
       "    </tr>\n",
       "    <tr>\n",
       "      <th>31</th>\n",
       "      <td>Product H</td>\n",
       "      <td>560</td>\n",
       "      <td>380</td>\n",
       "    </tr>\n",
       "    <tr>\n",
       "      <th>7</th>\n",
       "      <td>Product H</td>\n",
       "      <td>550</td>\n",
       "      <td>380</td>\n",
       "    </tr>\n",
       "    <tr>\n",
       "      <th>19</th>\n",
       "      <td>Product H</td>\n",
       "      <td>540</td>\n",
       "      <td>380</td>\n",
       "    </tr>\n",
       "    <tr>\n",
       "      <th>36</th>\n",
       "      <td>Product A</td>\n",
       "      <td>530</td>\n",
       "      <td>350</td>\n",
       "    </tr>\n",
       "    <tr>\n",
       "      <th>12</th>\n",
       "      <td>Product A</td>\n",
       "      <td>520</td>\n",
       "      <td>350</td>\n",
       "    </tr>\n",
       "    <tr>\n",
       "      <th>24</th>\n",
       "      <td>Product A</td>\n",
       "      <td>510</td>\n",
       "      <td>350</td>\n",
       "    </tr>\n",
       "    <tr>\n",
       "      <th>0</th>\n",
       "      <td>Product A</td>\n",
       "      <td>500</td>\n",
       "      <td>350</td>\n",
       "    </tr>\n",
       "    <tr>\n",
       "      <th>42</th>\n",
       "      <td>Product G</td>\n",
       "      <td>480</td>\n",
       "      <td>300</td>\n",
       "    </tr>\n",
       "    <tr>\n",
       "      <th>30</th>\n",
       "      <td>Product G</td>\n",
       "      <td>470</td>\n",
       "      <td>300</td>\n",
       "    </tr>\n",
       "    <tr>\n",
       "      <th>18</th>\n",
       "      <td>Product G</td>\n",
       "      <td>460</td>\n",
       "      <td>300</td>\n",
       "    </tr>\n",
       "    <tr>\n",
       "      <th>6</th>\n",
       "      <td>Product G</td>\n",
       "      <td>450</td>\n",
       "      <td>300</td>\n",
       "    </tr>\n",
       "    <tr>\n",
       "      <th>47</th>\n",
       "      <td>Product L</td>\n",
       "      <td>145</td>\n",
       "      <td>85</td>\n",
       "    </tr>\n",
       "    <tr>\n",
       "      <th>35</th>\n",
       "      <td>Product L</td>\n",
       "      <td>140</td>\n",
       "      <td>85</td>\n",
       "    </tr>\n",
       "    <tr>\n",
       "      <th>23</th>\n",
       "      <td>Product L</td>\n",
       "      <td>135</td>\n",
       "      <td>85</td>\n",
       "    </tr>\n",
       "    <tr>\n",
       "      <th>11</th>\n",
       "      <td>Product L</td>\n",
       "      <td>130</td>\n",
       "      <td>85</td>\n",
       "    </tr>\n",
       "    <tr>\n",
       "      <th>41</th>\n",
       "      <td>Product F</td>\n",
       "      <td>128</td>\n",
       "      <td>80</td>\n",
       "    </tr>\n",
       "    <tr>\n",
       "      <th>17</th>\n",
       "      <td>Product F</td>\n",
       "      <td>125</td>\n",
       "      <td>80</td>\n",
       "    </tr>\n",
       "    <tr>\n",
       "      <th>46</th>\n",
       "      <td>Product K</td>\n",
       "      <td>125</td>\n",
       "      <td>75</td>\n",
       "    </tr>\n",
       "    <tr>\n",
       "      <th>29</th>\n",
       "      <td>Product F</td>\n",
       "      <td>122</td>\n",
       "      <td>80</td>\n",
       "    </tr>\n",
       "    <tr>\n",
       "      <th>5</th>\n",
       "      <td>Product F</td>\n",
       "      <td>120</td>\n",
       "      <td>80</td>\n",
       "    </tr>\n",
       "    <tr>\n",
       "      <th>34</th>\n",
       "      <td>Product K</td>\n",
       "      <td>120</td>\n",
       "      <td>75</td>\n",
       "    </tr>\n",
       "    <tr>\n",
       "      <th>22</th>\n",
       "      <td>Product K</td>\n",
       "      <td>115</td>\n",
       "      <td>75</td>\n",
       "    </tr>\n",
       "    <tr>\n",
       "      <th>10</th>\n",
       "      <td>Product K</td>\n",
       "      <td>110</td>\n",
       "      <td>75</td>\n",
       "    </tr>\n",
       "    <tr>\n",
       "      <th>40</th>\n",
       "      <td>Product E</td>\n",
       "      <td>108</td>\n",
       "      <td>70</td>\n",
       "    </tr>\n",
       "    <tr>\n",
       "      <th>16</th>\n",
       "      <td>Product E</td>\n",
       "      <td>105</td>\n",
       "      <td>70</td>\n",
       "    </tr>\n",
       "    <tr>\n",
       "      <th>28</th>\n",
       "      <td>Product E</td>\n",
       "      <td>102</td>\n",
       "      <td>70</td>\n",
       "    </tr>\n",
       "    <tr>\n",
       "      <th>4</th>\n",
       "      <td>Product E</td>\n",
       "      <td>100</td>\n",
       "      <td>70</td>\n",
       "    </tr>\n",
       "    <tr>\n",
       "      <th>44</th>\n",
       "      <td>Product I</td>\n",
       "      <td>64</td>\n",
       "      <td>35</td>\n",
       "    </tr>\n",
       "    <tr>\n",
       "      <th>32</th>\n",
       "      <td>Product I</td>\n",
       "      <td>62</td>\n",
       "      <td>35</td>\n",
       "    </tr>\n",
       "    <tr>\n",
       "      <th>8</th>\n",
       "      <td>Product I</td>\n",
       "      <td>60</td>\n",
       "      <td>35</td>\n",
       "    </tr>\n",
       "    <tr>\n",
       "      <th>20</th>\n",
       "      <td>Product I</td>\n",
       "      <td>58</td>\n",
       "      <td>35</td>\n",
       "    </tr>\n",
       "    <tr>\n",
       "      <th>14</th>\n",
       "      <td>Product C</td>\n",
       "      <td>55</td>\n",
       "      <td>30</td>\n",
       "    </tr>\n",
       "    <tr>\n",
       "      <th>38</th>\n",
       "      <td>Product C</td>\n",
       "      <td>54</td>\n",
       "      <td>30</td>\n",
       "    </tr>\n",
       "    <tr>\n",
       "      <th>26</th>\n",
       "      <td>Product C</td>\n",
       "      <td>52</td>\n",
       "      <td>30</td>\n",
       "    </tr>\n",
       "    <tr>\n",
       "      <th>45</th>\n",
       "      <td>Product J</td>\n",
       "      <td>51</td>\n",
       "      <td>28</td>\n",
       "    </tr>\n",
       "    <tr>\n",
       "      <th>2</th>\n",
       "      <td>Product C</td>\n",
       "      <td>50</td>\n",
       "      <td>30</td>\n",
       "    </tr>\n",
       "    <tr>\n",
       "      <th>33</th>\n",
       "      <td>Product J</td>\n",
       "      <td>49</td>\n",
       "      <td>28</td>\n",
       "    </tr>\n",
       "    <tr>\n",
       "      <th>21</th>\n",
       "      <td>Product J</td>\n",
       "      <td>47</td>\n",
       "      <td>28</td>\n",
       "    </tr>\n",
       "    <tr>\n",
       "      <th>39</th>\n",
       "      <td>Product D</td>\n",
       "      <td>46</td>\n",
       "      <td>25</td>\n",
       "    </tr>\n",
       "    <tr>\n",
       "      <th>9</th>\n",
       "      <td>Product J</td>\n",
       "      <td>45</td>\n",
       "      <td>28</td>\n",
       "    </tr>\n",
       "    <tr>\n",
       "      <th>27</th>\n",
       "      <td>Product D</td>\n",
       "      <td>44</td>\n",
       "      <td>25</td>\n",
       "    </tr>\n",
       "    <tr>\n",
       "      <th>15</th>\n",
       "      <td>Product D</td>\n",
       "      <td>42</td>\n",
       "      <td>25</td>\n",
       "    </tr>\n",
       "    <tr>\n",
       "      <th>3</th>\n",
       "      <td>Product D</td>\n",
       "      <td>40</td>\n",
       "      <td>25</td>\n",
       "    </tr>\n",
       "  </tbody>\n",
       "</table>\n",
       "</div>"
      ],
      "text/plain": [
       "   Product_Name  Sales_Price  Cost_Price\n",
       "37    Product B          620         400\n",
       "13    Product B          610         400\n",
       "1     Product B          600         400\n",
       "25    Product B          590         400\n",
       "43    Product H          570         380\n",
       "31    Product H          560         380\n",
       "7     Product H          550         380\n",
       "19    Product H          540         380\n",
       "36    Product A          530         350\n",
       "12    Product A          520         350\n",
       "24    Product A          510         350\n",
       "0     Product A          500         350\n",
       "42    Product G          480         300\n",
       "30    Product G          470         300\n",
       "18    Product G          460         300\n",
       "6     Product G          450         300\n",
       "47    Product L          145          85\n",
       "35    Product L          140          85\n",
       "23    Product L          135          85\n",
       "11    Product L          130          85\n",
       "41    Product F          128          80\n",
       "17    Product F          125          80\n",
       "46    Product K          125          75\n",
       "29    Product F          122          80\n",
       "5     Product F          120          80\n",
       "34    Product K          120          75\n",
       "22    Product K          115          75\n",
       "10    Product K          110          75\n",
       "40    Product E          108          70\n",
       "16    Product E          105          70\n",
       "28    Product E          102          70\n",
       "4     Product E          100          70\n",
       "44    Product I           64          35\n",
       "32    Product I           62          35\n",
       "8     Product I           60          35\n",
       "20    Product I           58          35\n",
       "14    Product C           55          30\n",
       "38    Product C           54          30\n",
       "26    Product C           52          30\n",
       "45    Product J           51          28\n",
       "2     Product C           50          30\n",
       "33    Product J           49          28\n",
       "21    Product J           47          28\n",
       "39    Product D           46          25\n",
       "9     Product J           45          28\n",
       "27    Product D           44          25\n",
       "15    Product D           42          25\n",
       "3     Product D           40          25"
      ]
     },
     "execution_count": 45,
     "metadata": {},
     "output_type": "execute_result"
    }
   ],
   "source": [
    "df2.sort_values(by=['Sales_Price', 'Cost_Price'], ascending=False)"
   ]
  },
  {
   "cell_type": "markdown",
   "id": "0b4f4028-20d2-47e3-8bfd-5725452333bd",
   "metadata": {},
   "source": [
    "Product B gained the most profit.\n",
    "<hr>"
   ]
  },
  {
   "cell_type": "markdown",
   "id": "da3e0e98-65e6-4b2f-a97e-dc338ead879e",
   "metadata": {},
   "source": [
    "### **Task 6**\n",
    "<p> Explore the distribution of sales prices and create a histogram. </p>"
   ]
  },
  {
   "cell_type": "code",
   "execution_count": 46,
   "id": "ab609bc4-7ad4-4617-a781-61985571bb5c",
   "metadata": {
    "tags": []
   },
   "outputs": [
    {
     "data": {
      "text/plain": [
       "Index(['Date', 'Product_ID', 'Product_Name', 'Category', 'Sales_Price',\n",
       "       'Cost_Price', 'Quantity_Sold', 'Inventory_Count'],\n",
       "      dtype='object')"
      ]
     },
     "execution_count": 46,
     "metadata": {},
     "output_type": "execute_result"
    }
   ],
   "source": [
    "df.columns"
   ]
  },
  {
   "cell_type": "code",
   "execution_count": 47,
   "id": "a394b248-9d19-4af0-9c19-915e2598eb98",
   "metadata": {
    "tags": []
   },
   "outputs": [],
   "source": [
    "x = df['Sales_Price']"
   ]
  },
  {
   "cell_type": "code",
   "execution_count": 49,
   "id": "2e31f81e-3851-4ceb-b94e-6b8adc0aa445",
   "metadata": {
    "tags": []
   },
   "outputs": [
    {
     "data": {
      "text/plain": [
       "Text(0, 0.5, 'Frequency')"
      ]
     },
     "execution_count": 49,
     "metadata": {},
     "output_type": "execute_result"
    },
    {
     "data": {
      "image/png": "[encoded data removed]",
      "text/plain": [
       "<Figure size 640x480 with 1 Axes>"
      ]
     },
     "metadata": {},
     "output_type": "display_data"
    }
   ],
   "source": [
    "plt.hist(x)\n",
    "\n",
    "plt.title(\"Distribution of Sales Prices\")\n",
    "plt.xlabel(\"Sales Price\")\n",
    "plt.ylabel(\"Frequency\")"
   ]
  },
  {
   "cell_type": "markdown",
   "id": "8c1c233c-d1af-4034-81e1-0fe379f130ef",
   "metadata": {},
   "source": [
    "<hr>"
   ]
  },
  {
   "cell_type": "markdown",
   "id": "ea2aa78c-410c-416c-8170-c41bf06179c3",
   "metadata": {},
   "source": [
    "### **Task 7**\n",
    "<p> Determine the days with the highest and lowest total sales revenue and visualize\n",
    "it on a line plot. </p>"
   ]
  },
  {
   "cell_type": "code",
   "execution_count": 50,
   "id": "27e04a2e-fec1-4cd9-a439-0af3ecc4a426",
   "metadata": {
    "tags": []
   },
   "outputs": [
    {
     "data": {
      "text/plain": [
       "Index(['Date', 'Product_ID', 'Product_Name', 'Category', 'Sales_Price',\n",
       "       'Cost_Price', 'Quantity_Sold', 'Inventory_Count'],\n",
       "      dtype='object')"
      ]
     },
     "execution_count": 50,
     "metadata": {},
     "output_type": "execute_result"
    }
   ],
   "source": [
    "df.columns"
   ]
  },
  {
   "cell_type": "code",
   "execution_count": 111,
   "id": "a3b7448a-d6ad-4835-8043-7269ecfa6e17",
   "metadata": {
    "tags": []
   },
   "outputs": [
    {
     "data": {
      "text/html": [
       "<div>\n",
       "<style scoped>\n",
       "    .dataframe tbody tr th:only-of-type {\n",
       "        vertical-align: middle;\n",
       "    }\n",
       "\n",
       "    .dataframe tbody tr th {\n",
       "        vertical-align: top;\n",
       "    }\n",
       "\n",
       "    .dataframe thead th {\n",
       "        text-align: right;\n",
       "    }\n",
       "</style>\n",
       "<table border=\"1\" class=\"dataframe\">\n",
       "  <thead>\n",
       "    <tr style=\"text-align: right;\">\n",
       "      <th></th>\n",
       "      <th>Date</th>\n",
       "      <th>Product_Name</th>\n",
       "      <th>Sales_Price</th>\n",
       "    </tr>\n",
       "  </thead>\n",
       "  <tbody>\n",
       "    <tr>\n",
       "      <th>37</th>\n",
       "      <td>2023-04-02</td>\n",
       "      <td>Product B</td>\n",
       "      <td>620</td>\n",
       "    </tr>\n",
       "  </tbody>\n",
       "</table>\n",
       "</div>"
      ],
      "text/plain": [
       "          Date Product_Name  Sales_Price\n",
       "37  2023-04-02    Product B          620"
      ]
     },
     "execution_count": 111,
     "metadata": {},
     "output_type": "execute_result"
    }
   ],
   "source": [
    "df2= df.drop(columns =['Cost_Price', 'Product_ID', 'Category', 'Quantity_Sold', 'Inventory_Count'])\n",
    "df3 = df2.sort_values(by=['Sales_Price', 'Date'], ascending=False)\n",
    "df3.head(1)"
   ]
  },
  {
   "cell_type": "code",
   "execution_count": 104,
   "id": "5d0a4afd-699b-4f32-854a-a6304bc10b24",
   "metadata": {
    "tags": []
   },
   "outputs": [
    {
     "data": {
      "text/html": [
       "<div>\n",
       "<style scoped>\n",
       "    .dataframe tbody tr th:only-of-type {\n",
       "        vertical-align: middle;\n",
       "    }\n",
       "\n",
       "    .dataframe tbody tr th {\n",
       "        vertical-align: top;\n",
       "    }\n",
       "\n",
       "    .dataframe thead th {\n",
       "        text-align: right;\n",
       "    }\n",
       "</style>\n",
       "<table border=\"1\" class=\"dataframe\">\n",
       "  <thead>\n",
       "    <tr style=\"text-align: right;\">\n",
       "      <th></th>\n",
       "      <th>Date</th>\n",
       "      <th>Product_Name</th>\n",
       "      <th>Sales_Price</th>\n",
       "    </tr>\n",
       "  </thead>\n",
       "  <tbody>\n",
       "    <tr>\n",
       "      <th>3</th>\n",
       "      <td>2023-01-04</td>\n",
       "      <td>Product D</td>\n",
       "      <td>40</td>\n",
       "    </tr>\n",
       "  </tbody>\n",
       "</table>\n",
       "</div>"
      ],
      "text/plain": [
       "         Date Product_Name  Sales_Price\n",
       "3  2023-01-04    Product D           40"
      ]
     },
     "execution_count": 104,
     "metadata": {},
     "output_type": "execute_result"
    }
   ],
   "source": [
    "df3.tail(1)"
   ]
  },
  {
   "cell_type": "code",
   "execution_count": 109,
   "id": "78af0fee-83df-4923-87d3-ffcf3c4f520e",
   "metadata": {
    "tags": []
   },
   "outputs": [
    {
     "data": {
      "text/plain": [
       "[<matplotlib.lines.Line2D at 0x26066cca450>]"
      ]
     },
     "execution_count": 109,
     "metadata": {},
     "output_type": "execute_result"
    },
    {
     "data": {
      "image/png": "[encoded data removed]",
      "text/plain": [
       "<Figure size 640x480 with 1 Axes>"
      ]
     },
     "metadata": {},
     "output_type": "display_data"
    }
   ],
   "source": [
    "x = df[\"Date\"]\n",
    "y = df['Sales_Price']\n",
    "plt.plot(x,y)"
   ]
  },
  {
   "cell_type": "markdown",
   "id": "2ae1d0c5-f420-4b1b-995d-99c8983cd86e",
   "metadata": {},
   "source": [
    "<hr>"
   ]
  },
  {
   "cell_type": "markdown",
   "id": "1c8ee2f5-0a63-43b1-bd7b-d58502741f7d",
   "metadata": {},
   "source": [
    "### **Task 8**\n",
    "<p> Calculate the total sales revenue for each month and present the results in a line\n",
    "plot to identify any trends or seasonality. </p>"
   ]
  },
  {
   "cell_type": "code",
   "execution_count": 114,
   "id": "56dbacf8-505f-419b-ba28-2bb74a72b3d4",
   "metadata": {
    "tags": []
   },
   "outputs": [
    {
     "data": {
      "text/plain": [
       "Sales_Price    2755\n",
       "dtype: int64"
      ]
     },
     "execution_count": 114,
     "metadata": {},
     "output_type": "execute_result"
    }
   ],
   "source": [
    "df2 = df.loc[0:11, ['Sales_Price']]\n",
    "df2.sum()"
   ]
  },
  {
   "cell_type": "code",
   "execution_count": 115,
   "id": "a589e0e6-e81f-4e83-b927-9815b984b28e",
   "metadata": {
    "tags": []
   },
   "outputs": [
    {
     "data": {
      "text/plain": [
       "Sales_Price    2812\n",
       "dtype: int64"
      ]
     },
     "execution_count": 115,
     "metadata": {},
     "output_type": "execute_result"
    }
   ],
   "source": [
    "df3 = df.loc[12:23, ['Sales_Price']]\n",
    "df3.sum()"
   ]
  },
  {
   "cell_type": "code",
   "execution_count": 116,
   "id": "2f2ccb01-348b-44bd-90ef-583379cff485",
   "metadata": {
    "tags": []
   },
   "outputs": [
    {
     "data": {
      "text/plain": [
       "Sales_Price    2821\n",
       "dtype: int64"
      ]
     },
     "execution_count": 116,
     "metadata": {},
     "output_type": "execute_result"
    }
   ],
   "source": [
    "df4 = df.loc[24:35, ['Sales_Price']]\n",
    "df4.sum()"
   ]
  },
  {
   "cell_type": "code",
   "execution_count": 117,
   "id": "488cf0db-2510-45af-9069-6d4d7a961322",
   "metadata": {
    "tags": []
   },
   "outputs": [
    {
     "data": {
      "text/plain": [
       "Sales_Price    2921\n",
       "dtype: int64"
      ]
     },
     "execution_count": 117,
     "metadata": {},
     "output_type": "execute_result"
    }
   ],
   "source": [
    "df5 = df.loc[36:47, ['Sales_Price']]\n",
    "df5.sum()"
   ]
  },
  {
   "cell_type": "code",
   "execution_count": 118,
   "id": "a0c21d50-5553-4de5-ba10-828c351a9a3b",
   "metadata": {
    "tags": []
   },
   "outputs": [
    {
     "data": {
      "text/plain": [
       "Text(0, 0.5, 'Sales')"
      ]
     },
     "execution_count": 118,
     "metadata": {},
     "output_type": "execute_result"
    },
    {
     "data": {
      "image/png": "[encoded data removed]",
      "text/plain": [
       "<Figure size 640x480 with 1 Axes>"
      ]
     },
     "metadata": {},
     "output_type": "display_data"
    }
   ],
   "source": [
    "x = ['Jan', 'Feb', 'Mar', 'Apr']\n",
    "y = [2755, 2812, 2812, 2921]\n",
    "\n",
    "plt.plot(x,y)\n",
    "\n",
    "plt.title(\"Total Sales Over Time by Months\")\n",
    "plt.xlabel(\"Months\")\n",
    "plt.ylabel(\"Sales\")"
   ]
  },
  {
   "cell_type": "markdown",
   "id": "2df817ae-d19a-439d-a11a-e641ca2c6408",
   "metadata": {},
   "source": [
    "<p> As we don't know exactly what these products are, it's hard to determine exactly what made the sales increase, but as it only gets higher going towards April, they might be products for warmer weather, and judging by this graph, it likely either increases or stays the same as it goes on. </p>\n",
    "<hr>"
   ]
  },
  {
   "cell_type": "markdown",
   "id": "7c33da18-3dcc-4110-944f-733495d1a647",
   "metadata": {},
   "source": [
    "### **Task 9**\n",
    "<p> Compute the average sales price for each product category and create a bar\n",
    "chart to visualize it. </p>"
   ]
  },
  {
   "cell_type": "code",
   "execution_count": 120,
   "id": "ca3a638d-8d40-4349-94bd-332e2d63ab6f",
   "metadata": {
    "tags": []
   },
   "outputs": [],
   "source": [
    "df2= df.drop(columns =['Cost_Price', 'Product_ID', 'Quantity_Sold', 'Inventory_Count'])"
   ]
  },
  {
   "cell_type": "code",
   "execution_count": 122,
   "id": "c16792d7-1ce3-4223-b0f0-f9b7078182f6",
   "metadata": {
    "tags": []
   },
   "outputs": [
    {
     "name": "stderr",
     "output_type": "stream",
     "text": [
      "C:\\Users\\robyn\\AppData\\Local\\Temp\\ipykernel_20096\\4162335775.py:1: FutureWarning: The default value of numeric_only in DataFrameGroupBy.mean is deprecated. In a future version, numeric_only will default to False. Either specify numeric_only or select only columns which should be valid for the function.\n",
      "  df2.groupby('Category').mean()\n"
     ]
    },
    {
     "data": {
      "text/html": [
       "<div>\n",
       "<style scoped>\n",
       "    .dataframe tbody tr th:only-of-type {\n",
       "        vertical-align: middle;\n",
       "    }\n",
       "\n",
       "    .dataframe tbody tr th {\n",
       "        vertical-align: top;\n",
       "    }\n",
       "\n",
       "    .dataframe thead th {\n",
       "        text-align: right;\n",
       "    }\n",
       "</style>\n",
       "<table border=\"1\" class=\"dataframe\">\n",
       "  <thead>\n",
       "    <tr style=\"text-align: right;\">\n",
       "      <th></th>\n",
       "      <th>Sales_Price</th>\n",
       "    </tr>\n",
       "    <tr>\n",
       "      <th>Category</th>\n",
       "      <th></th>\n",
       "    </tr>\n",
       "  </thead>\n",
       "  <tbody>\n",
       "    <tr>\n",
       "      <th>Clothing</th>\n",
       "      <td>51.1875</td>\n",
       "    </tr>\n",
       "    <tr>\n",
       "      <th>Electronics</th>\n",
       "      <td>535.0000</td>\n",
       "    </tr>\n",
       "    <tr>\n",
       "      <th>Home Decor</th>\n",
       "      <td>120.6250</td>\n",
       "    </tr>\n",
       "  </tbody>\n",
       "</table>\n",
       "</div>"
      ],
      "text/plain": [
       "             Sales_Price\n",
       "Category                \n",
       "Clothing         51.1875\n",
       "Electronics     535.0000\n",
       "Home Decor      120.6250"
      ]
     },
     "execution_count": 122,
     "metadata": {},
     "output_type": "execute_result"
    }
   ],
   "source": [
    "df2.groupby('Category').mean()"
   ]
  },
  {
   "cell_type": "code",
   "execution_count": 123,
   "id": "e3f58eec-f689-487b-b1be-7e3c6f3892bc",
   "metadata": {
    "tags": []
   },
   "outputs": [
    {
     "data": {
      "text/plain": [
       "<Axes: xlabel='Category'>"
      ]
     },
     "execution_count": 123,
     "metadata": {},
     "output_type": "execute_result"
    },
    {
     "data": {
      "image/png": "[encoded data removed]",
      "text/plain": [
       "<Figure size 640x480 with 1 Axes>"
      ]
     },
     "metadata": {},
     "output_type": "display_data"
    }
   ],
   "source": [
    "df2.plot.bar(x='Category', y='Sales_Price', rot=0)"
   ]
  },
  {
   "cell_type": "markdown",
   "id": "5a3c10c8-6710-4a4b-846f-672c2dc70365",
   "metadata": {
    "tags": []
   },
   "source": [
    "<hr>"
   ]
  },
  {
   "cell_type": "markdown",
   "id": "94acad9c-5d4d-4415-a5da-98cf00e60eec",
   "metadata": {},
   "source": [
    "### **Task 10**\n",
    "<p> Conduct a correlation analysis to investigate the relationship between sales price\n",
    "and quantity sold. </p>"
   ]
  },
  {
   "cell_type": "code",
   "execution_count": 126,
   "id": "07a53f33-1e70-494c-961b-9e084f848eb5",
   "metadata": {
    "tags": []
   },
   "outputs": [
    {
     "data": {
      "text/plain": [
       "Index(['Date', 'Product_ID', 'Product_Name', 'Category', 'Sales_Price',\n",
       "       'Cost_Price', 'Quantity_Sold', 'Inventory_Count'],\n",
       "      dtype='object')"
      ]
     },
     "execution_count": 126,
     "metadata": {},
     "output_type": "execute_result"
    }
   ],
   "source": [
    "df.columns"
   ]
  },
  {
   "cell_type": "code",
   "execution_count": 127,
   "id": "8f826a30-5805-4487-a80b-1954576ebfa2",
   "metadata": {
    "tags": []
   },
   "outputs": [],
   "source": [
    "df2= df.drop(columns =['Product_ID', 'Inventory_Count', 'Cost_Price', 'Category'])"
   ]
  },
  {
   "cell_type": "code",
   "execution_count": 128,
   "id": "fcecd6bf-0da7-46b7-9f63-b15224c3bb12",
   "metadata": {
    "tags": []
   },
   "outputs": [
    {
     "name": "stderr",
     "output_type": "stream",
     "text": [
      "C:\\Users\\robyn\\AppData\\Local\\Temp\\ipykernel_20096\\1747087275.py:1: FutureWarning: The default value of numeric_only in DataFrame.corr is deprecated. In a future version, it will default to False. Select only valid columns or specify the value of numeric_only to silence this warning.\n",
      "  df2.corr(method ='pearson')\n"
     ]
    },
    {
     "data": {
      "text/html": [
       "<div>\n",
       "<style scoped>\n",
       "    .dataframe tbody tr th:only-of-type {\n",
       "        vertical-align: middle;\n",
       "    }\n",
       "\n",
       "    .dataframe tbody tr th {\n",
       "        vertical-align: top;\n",
       "    }\n",
       "\n",
       "    .dataframe thead th {\n",
       "        text-align: right;\n",
       "    }\n",
       "</style>\n",
       "<table border=\"1\" class=\"dataframe\">\n",
       "  <thead>\n",
       "    <tr style=\"text-align: right;\">\n",
       "      <th></th>\n",
       "      <th>Sales_Price</th>\n",
       "      <th>Quantity_Sold</th>\n",
       "    </tr>\n",
       "  </thead>\n",
       "  <tbody>\n",
       "    <tr>\n",
       "      <th>Sales_Price</th>\n",
       "      <td>1.000000</td>\n",
       "      <td>-0.716589</td>\n",
       "    </tr>\n",
       "    <tr>\n",
       "      <th>Quantity_Sold</th>\n",
       "      <td>-0.716589</td>\n",
       "      <td>1.000000</td>\n",
       "    </tr>\n",
       "  </tbody>\n",
       "</table>\n",
       "</div>"
      ],
      "text/plain": [
       "               Sales_Price  Quantity_Sold\n",
       "Sales_Price       1.000000      -0.716589\n",
       "Quantity_Sold    -0.716589       1.000000"
      ]
     },
     "execution_count": 128,
     "metadata": {},
     "output_type": "execute_result"
    }
   ],
   "source": [
    "df2.corr(method ='pearson')"
   ]
  },
  {
   "cell_type": "markdown",
   "id": "db05f85b-9032-4248-a682-9ca95b2a4f76",
   "metadata": {},
   "source": [
    "<hr>"
   ]
  },
  {
   "cell_type": "code",
   "execution_count": null,
   "id": "545207f4-9ed9-491f-bd77-2b8a8c65f15d",
   "metadata": {},
   "outputs": [],
   "source": []
  }
 ],
 "metadata": {
  "kernelspec": {
   "display_name": "Python 3 (ipykernel)",
   "language": "python",
   "name": "python3"
  },
  "language_info": {
   "codemirror_mode": {
    "name": "ipython",
    "version": 3
   },
   "file_extension": ".py",
   "mimetype": "text/x-python",
   "name": "python",
   "nbconvert_exporter": "python",
   "pygments_lexer": "ipython3",
   "version": "3.11.4"
  }
 },
 "nbformat": 4,
 "nbformat_minor": 5
}
